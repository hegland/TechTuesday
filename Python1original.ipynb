{
 "cells": [
  {
   "cell_type": "markdown",
   "metadata": {},
   "source": [
    "## Tech Tuesday VSCode with Jupyter and Python to start"
   ]
  },
  {
   "cell_type": "code",
   "execution_count": null,
   "metadata": {},
   "outputs": [],
   "source": [
    "# print Hello World"
   ]
  },
  {
   "cell_type": "code",
   "execution_count": null,
   "metadata": {
    "vscode": {
     "languageId": "shellscript"
    }
   },
   "outputs": [],
   "source": [
    "# do this if they are not already installed: (can also get this from copilot)\n",
    "# install the numpy package\n",
    "##### !pip install numpy\n",
    "# install the matplotlib package\n",
    "##### !pip install matplotlib"
   ]
  },
  {
   "cell_type": "code",
   "execution_count": null,
   "metadata": {},
   "outputs": [],
   "source": [
    "# plot f(x) = sin(x) for x in [0, 2pi]"
   ]
  },
  {
   "cell_type": "markdown",
   "metadata": {},
   "source": [
    "## Numerical linear algebra\n",
    "\n",
    "### a random matrix"
   ]
  },
  {
   "cell_type": "code",
   "execution_count": null,
   "metadata": {},
   "outputs": [],
   "source": [
    "m = 3   # number of rows\n",
    "n = 4   # number of columns\n",
    "\n",
    "# generate a random m x n matrix M\n",
    "\n",
    "# print M with label and newline\n",
    "\n",
    "# print the singular values of M with label and newline at the end\n"
   ]
  },
  {
   "cell_type": "markdown",
   "metadata": {},
   "source": [
    "### a compound matrix"
   ]
  },
  {
   "cell_type": "code",
   "execution_count": null,
   "metadata": {},
   "outputs": [],
   "source": [
    "# generate a set Sm containing the numbers 1, 2, ..., m\n",
    "\n",
    "# generate a set Tn containing the numbers 1, 2, ..., n\n",
    "\n",
    "k = 2  # order of compound matrix\n",
    "\n",
    "# generate all subsets S of Sm of size k\n",
    "\n",
    "# generate all subsets T of Tn of size k\n",
    "\n",
    "# generate a matrix C of all determinants of the k x k submatrices of M\n",
    " \n",
    "# loop over all elements of Sc\n",
    "\n",
    "# print matrix C with label and newline at the end and its shape\n"
   ]
  }
 ],
 "metadata": {
  "kernelspec": {
   "display_name": "Python 3",
   "language": "python",
   "name": "python3"
  },
  "language_info": {
   "codemirror_mode": {
    "name": "ipython",
    "version": 3
   },
   "file_extension": ".py",
   "mimetype": "text/x-python",
   "name": "python",
   "nbconvert_exporter": "python",
   "pygments_lexer": "ipython3",
   "version": "3.10.12"
  },
  "orig_nbformat": 4
 },
 "nbformat": 4,
 "nbformat_minor": 2
}
